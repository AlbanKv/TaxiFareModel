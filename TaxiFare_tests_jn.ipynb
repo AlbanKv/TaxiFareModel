{
 "cells": [
  {
   "cell_type": "code",
   "execution_count": 28,
   "id": "19540587",
   "metadata": {},
   "outputs": [
    {
     "name": "stdout",
     "output_type": "stream",
     "text": [
      "The autoreload extension is already loaded. To reload it, use:\n",
      "  %reload_ext autoreload\n"
     ]
    }
   ],
   "source": [
    "%load_ext autoreload\n",
    "%autoreload 2"
   ]
  },
  {
   "cell_type": "code",
   "execution_count": 29,
   "id": "9f1cfb1e",
   "metadata": {},
   "outputs": [],
   "source": [
    "import pandas as pd\n",
    "import numpy as np"
   ]
  },
  {
   "cell_type": "code",
   "execution_count": 30,
   "id": "5ff36d2d",
   "metadata": {},
   "outputs": [],
   "source": [
    "from TaxiFareModel.trainer import Trainer"
   ]
  },
  {
   "cell_type": "code",
   "execution_count": 42,
   "id": "fbe90545",
   "metadata": {},
   "outputs": [],
   "source": [
    "from TaxiFareModel.data import get_data, clean_data"
   ]
  },
  {
   "cell_type": "code",
   "execution_count": 51,
   "id": "dcceb3ca",
   "metadata": {},
   "outputs": [],
   "source": [
    "df = get_data()"
   ]
  },
  {
   "cell_type": "code",
   "execution_count": 52,
   "id": "9e08b4fe",
   "metadata": {},
   "outputs": [],
   "source": [
    "df = clean_data(df)"
   ]
  },
  {
   "cell_type": "code",
   "execution_count": 53,
   "id": "830191b5",
   "metadata": {},
   "outputs": [],
   "source": [
    "X = df.drop(columns=['fare_amount'])\n",
    "y = df.fare_amount"
   ]
  },
  {
   "cell_type": "code",
   "execution_count": 154,
   "id": "68807f25",
   "metadata": {},
   "outputs": [],
   "source": [
    "trainer = Trainer(X, y, test_size=0.2)"
   ]
  },
  {
   "cell_type": "code",
   "execution_count": 155,
   "id": "55bcaf41",
   "metadata": {},
   "outputs": [
    {
     "data": {
      "text/plain": [
       "0.2"
      ]
     },
     "execution_count": 155,
     "metadata": {},
     "output_type": "execute_result"
    }
   ],
   "source": [
    "trainer.test_size"
   ]
  },
  {
   "cell_type": "code",
   "execution_count": 115,
   "id": "d0af122b",
   "metadata": {},
   "outputs": [],
   "source": [
    "X_train, X_test, y_train, y_test = trainer.hold_out(X, y)"
   ]
  },
  {
   "cell_type": "code",
   "execution_count": 116,
   "id": "f7b2b378",
   "metadata": {},
   "outputs": [],
   "source": [
    "pipeline = trainer.set_pipeline()"
   ]
  },
  {
   "cell_type": "code",
   "execution_count": 117,
   "id": "1ac56415",
   "metadata": {},
   "outputs": [],
   "source": [
    "trainer.run(X_train, y_train)"
   ]
  },
  {
   "cell_type": "code",
   "execution_count": 118,
   "id": "abb1a1e3",
   "metadata": {},
   "outputs": [
    {
     "data": {
      "text/plain": [
       "4.796845850297598"
      ]
     },
     "execution_count": 118,
     "metadata": {},
     "output_type": "execute_result"
    }
   ],
   "source": [
    "res = trainer.evaluate(X_test, y_test)\n",
    "res"
   ]
  },
  {
   "cell_type": "code",
   "execution_count": null,
   "id": "9808beca",
   "metadata": {},
   "outputs": [],
   "source": []
  },
  {
   "cell_type": "code",
   "execution_count": null,
   "id": "ee2b6ca2",
   "metadata": {},
   "outputs": [],
   "source": []
  }
 ],
 "metadata": {
  "kernelspec": {
   "display_name": "Python 3 (ipykernel)",
   "language": "python",
   "name": "python3"
  },
  "language_info": {
   "codemirror_mode": {
    "name": "ipython",
    "version": 3
   },
   "file_extension": ".py",
   "mimetype": "text/x-python",
   "name": "python",
   "nbconvert_exporter": "python",
   "pygments_lexer": "ipython3",
   "version": "3.8.12"
  },
  "toc": {
   "base_numbering": 1,
   "nav_menu": {},
   "number_sections": true,
   "sideBar": true,
   "skip_h1_title": false,
   "title_cell": "Table of Contents",
   "title_sidebar": "Contents",
   "toc_cell": false,
   "toc_position": {},
   "toc_section_display": true,
   "toc_window_display": false
  }
 },
 "nbformat": 4,
 "nbformat_minor": 5
}
